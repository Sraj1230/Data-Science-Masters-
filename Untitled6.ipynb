{
 "cells": [
  {
   "cell_type": "markdown",
   "id": "42a8d0fe",
   "metadata": {},
   "source": [
    "date:02/02/2023\n",
    "\n",
    "Q.1) \n",
    "What are the characteristics of the tuples? Is tuple immutable?\n",
    "\n",
    "Ans. Tuple are a class of data structure that can store one or more objects or values. it's items are ordered, unchangeable and allow duplicate values.\n",
    "    Yes, it is immutable.\n",
    "Q.2) What are the two tuple methods in Python? Give an example of each method. Give a reason why tuples have only two in-built methods as compared to lists.\n",
    "\n",
    "Ans. count and index are the two tuple methods in Python.  "
   ]
  },
  {
   "cell_type": "code",
   "execution_count": 1,
   "id": "6c9748b3",
   "metadata": {},
   "outputs": [
    {
     "data": {
      "text/plain": [
       "2"
      ]
     },
     "execution_count": 1,
     "metadata": {},
     "output_type": "execute_result"
    }
   ],
   "source": [
    "#example Q.20 \n",
    "t=('sumon',6,4.401,2+8j,True,1)\n",
    "t.count(1)"
   ]
  },
  {
   "cell_type": "code",
   "execution_count": 4,
   "id": "c06531d7",
   "metadata": {},
   "outputs": [
    {
     "data": {
      "text/plain": [
       "2"
      ]
     },
     "execution_count": 4,
     "metadata": {},
     "output_type": "execute_result"
    }
   ],
   "source": [
    "t.index(4.401)"
   ]
  },
  {
   "cell_type": "code",
   "execution_count": null,
   "id": "bf487aa6",
   "metadata": {},
   "outputs": [],
   "source": [
    "Lists have several built-in methods. A unexpected change or error is more likely to occur in a list.\n",
    "In a tuple, changes and errors don't usually occur because of immutability."
   ]
  },
  {
   "cell_type": "markdown",
   "id": "681bd8a7",
   "metadata": {},
   "source": [
    "Q.3)\n",
    "Which collection datatypes in python do not allow duplicate items? Write a code using a set to \n",
    "remove duplicates form the given list.\n",
    "List=[1,1,1,2,1,3,1,4,2,1,2,2,2,3,2,4,3,1,3,2,3,3,3,4,4,1,4,2,4,3,4,4]\n",
    "\n",
    "Ans. Set does not allow duplicate items."
   ]
  },
  {
   "cell_type": "code",
   "execution_count": 7,
   "id": "bb3360d6",
   "metadata": {},
   "outputs": [
    {
     "data": {
      "text/plain": [
       "{1, 2, 3, 4}"
      ]
     },
     "execution_count": 7,
     "metadata": {},
     "output_type": "execute_result"
    }
   ],
   "source": [
    "List=[1,1,1,2,1,3,1,4,2,1,2,2,2,3,2,4,3,1,3,2,3,3,3,4,4,1,4,2,4,3,4,4]\n",
    "set(List)"
   ]
  },
  {
   "cell_type": "markdown",
   "id": "e673230b",
   "metadata": {},
   "source": [
    "Q.4) \n",
    "Explain the different between the union() and update() methods for a set. Give an example of each\n",
    "method.\n",
    "\n",
    "Ans. s.union(l)  s | l   new set with elements from both s and l\n",
    "     s.update(l) s |= l  return set s with elements added from l"
   ]
  },
  {
   "cell_type": "code",
   "execution_count": 3,
   "id": "f56f9231",
   "metadata": {},
   "outputs": [
    {
     "data": {
      "text/plain": [
       "{(5+9j), (55+8j), 12.03, 455, 54.3, 88, False, True, 'fast', 'java'}"
      ]
     },
     "execution_count": 3,
     "metadata": {},
     "output_type": "execute_result"
    }
   ],
   "source": [
    "s={88,12.03,5+9j,'java',False}\n",
    "l={'fast',455,55+8j,True,54.3}\n",
    "s.union(l)\n"
   ]
  },
  {
   "cell_type": "code",
   "execution_count": 21,
   "id": "cc5bb1bb",
   "metadata": {},
   "outputs": [
    {
     "name": "stdout",
     "output_type": "stream",
     "text": [
      "{False, (5+9j), True, 455, 12.03, 'java', (55+8j), 54.3, 88, 'fast'}\n"
     ]
    }
   ],
   "source": [
    "s={88,12.03,5+9j,'java',False}\n",
    "l={'fast',455,55+8j,True,54.3,88}\n",
    "s.update(l)\n",
    "print(s)"
   ]
  },
  {
   "cell_type": "markdown",
   "id": "3e727173",
   "metadata": {},
   "source": [
    "Q.5) \n",
    "What is a dictionary? Give an example. Also, state whether a dictionary is ordered or unordered.\n",
    "\n",
    "Ans. Dictionary are used to store data values in key:value pair. A dictionary is a collection which is\n",
    "    ordered,changeable and do not allow duplicates."
   ]
  },
  {
   "cell_type": "code",
   "execution_count": 22,
   "id": "8baf171b",
   "metadata": {},
   "outputs": [
    {
     "name": "stdout",
     "output_type": "stream",
     "text": [
      "{'course': 'Data Science Masters', 'Mentor': {'Krish Sir', 'Sudhanshu Sir'}, 'Start_time': '28 jan'}\n"
     ]
    },
    {
     "data": {
      "text/plain": [
       "dict"
      ]
     },
     "execution_count": 22,
     "metadata": {},
     "output_type": "execute_result"
    }
   ],
   "source": [
    "dic={\"course\":\"Data Science Masters\",\"Mentor\":{\"Krish Sir\",\"Sudhanshu Sir\"},\"Start_time\":\"28 jan\"}\n",
    "print(dic)\n",
    "type(dic)"
   ]
  },
  {
   "cell_type": "code",
   "execution_count": null,
   "id": "ae104eb5",
   "metadata": {},
   "outputs": [],
   "source": [
    "Dictionary is ordered."
   ]
  },
  {
   "cell_type": "markdown",
   "id": "989c82b3",
   "metadata": {},
   "source": [
    "Q.6)\n",
    "Can we create a nested dictionary? if so,please give an example by creating a simple one-level \n",
    "nested dictionary.\n",
    "\n",
    "Ans. Yes, we create a nested dictionary. "
   ]
  },
  {
   "cell_type": "code",
   "execution_count": null,
   "id": "2fd8786d",
   "metadata": {},
   "outputs": [],
   "source": [
    "family={'child1':{'name':'tuhin','age':'2'},'child2':{'name':'riya','age':'5'}}"
   ]
  },
  {
   "cell_type": "markdown",
   "id": "017d4411",
   "metadata": {},
   "source": [
    "Q.7)\n",
    "Using setdefault() method,create key named topics in the given dictionary and also add the value of \n",
    "the key as this list['Python','Machine Learning','Deep Learning']\n",
    "dict1={'languge':'Python','course':'Data Science Masters'}"
   ]
  },
  {
   "cell_type": "code",
   "execution_count": 1,
   "id": "47a90ed2",
   "metadata": {},
   "outputs": [
    {
     "name": "stdout",
     "output_type": "stream",
     "text": [
      "{'language': 'Python', 'course': 'Data Science Masters', 'topics': {'Machine Larning', 'Deep Learning'}}\n"
     ]
    }
   ],
   "source": [
    "dict1={'language':'Python','course':'Data Science Masters'}\n",
    "dict1.setdefault('topics',{'Machine Larning','Deep Learning'})\n",
    "print(dict1)\n",
    "                           "
   ]
  },
  {
   "cell_type": "code",
   "execution_count": null,
   "id": "74cd360e",
   "metadata": {},
   "outputs": [],
   "source": [
    "Q.8)\n",
    "What are the three view objects in dictionaries? Use the three in-built methords in Python to display\n",
    "these three view objects for the given dictionary.\n",
    "\n",
    "dict1={'Sport':'Cricket','Teams':['India','Australia','England','South Africa','Sri Lanka','New Zealand']}\n",
    "\n",
    "Ans. The main three view objects in dictionaries is keys,values and items.\n"
   ]
  },
  {
   "cell_type": "code",
   "execution_count": 6,
   "id": "29222b09",
   "metadata": {},
   "outputs": [
    {
     "data": {
      "text/plain": [
       "dict_keys(['Sport', 'Teams'])"
      ]
     },
     "execution_count": 6,
     "metadata": {},
     "output_type": "execute_result"
    }
   ],
   "source": [
    "dict1={'Sport':'Cricket','Teams':['India','Australia','England','South Africa','Sri Lanka','New Zealand']}\n",
    "dict1.keys()\n"
   ]
  },
  {
   "cell_type": "code",
   "execution_count": null,
   "id": "b201ad3f",
   "metadata": {},
   "outputs": [],
   "source": [
    "dict1.values()"
   ]
  }
 ],
 "metadata": {
  "kernelspec": {
   "display_name": "Python 3 (ipykernel)",
   "language": "python",
   "name": "python3"
  },
  "language_info": {
   "codemirror_mode": {
    "name": "ipython",
    "version": 3
   },
   "file_extension": ".py",
   "mimetype": "text/x-python",
   "name": "python",
   "nbconvert_exporter": "python",
   "pygments_lexer": "ipython3",
   "version": "3.9.12"
  }
 },
 "nbformat": 4,
 "nbformat_minor": 5
}
